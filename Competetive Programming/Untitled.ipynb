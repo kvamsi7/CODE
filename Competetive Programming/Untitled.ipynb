{
 "cells": [
  {
   "cell_type": "code",
   "execution_count": 62,
   "id": "0288d903",
   "metadata": {},
   "outputs": [
    {
     "name": "stdout",
     "output_type": "stream",
     "text": [
      "1 1\n",
      "-1 2\n",
      "2 3\n",
      "3\n"
     ]
    }
   ],
   "source": [
    "move = 0\n",
    "val = 0\n",
    "n = 2\n",
    "while(n != val):\n",
    "    move = move + 1\n",
    "    step = 0\n",
    "    for i in range(move):\n",
    "        if(n==val):\n",
    "            break\n",
    "        elif(val + move > n):\n",
    "            val = val - move\n",
    "            break\n",
    "        elif(val + move <= n):\n",
    "            val = val + move\n",
    "            break            \n",
    "        else:\n",
    "            val = val + 1\n",
    "    print(val,move)\n",
    "print(move)"
   ]
  },
  {
   "cell_type": "code",
   "execution_count": 55,
   "id": "93a31c2e",
   "metadata": {},
   "outputs": [
    {
     "data": {
      "text/plain": [
       "3"
      ]
     },
     "execution_count": 55,
     "metadata": {},
     "output_type": "execute_result"
    }
   ],
   "source": [
    "move"
   ]
  },
  {
   "cell_type": "code",
   "execution_count": 10,
   "id": "e6ba0b37",
   "metadata": {},
   "outputs": [],
   "source": [
    "a = [1,2,3]\n",
    "a.reverse()"
   ]
  },
  {
   "cell_type": "code",
   "execution_count": 3,
   "id": "ae60dd4d",
   "metadata": {},
   "outputs": [
    {
     "data": {
      "text/plain": [
       "(1, 2, 3, [1, 2, 3])"
      ]
     },
     "execution_count": 3,
     "metadata": {},
     "output_type": "execute_result"
    }
   ],
   "source": [
    "b,c,d,a"
   ]
  },
  {
   "cell_type": "code",
   "execution_count": 5,
   "id": "06be5168",
   "metadata": {},
   "outputs": [
    {
     "name": "stdout",
     "output_type": "stream",
     "text": [
      "[x*x for x in range(3)]\n"
     ]
    },
    {
     "data": {
      "text/plain": [
       "'[x*x for x in range(3)]'"
      ]
     },
     "execution_count": 5,
     "metadata": {},
     "output_type": "execute_result"
    }
   ],
   "source": [
    "input()"
   ]
  },
  {
   "cell_type": "code",
   "execution_count": 11,
   "id": "dfb4831c",
   "metadata": {},
   "outputs": [
    {
     "data": {
      "text/plain": [
       "[3, 2, 1]"
      ]
     },
     "execution_count": 11,
     "metadata": {},
     "output_type": "execute_result"
    }
   ],
   "source": [
    "a"
   ]
  },
  {
   "cell_type": "code",
   "execution_count": 12,
   "id": "46c91859",
   "metadata": {},
   "outputs": [],
   "source": [
    "import re"
   ]
  },
  {
   "cell_type": "code",
   "execution_count": 13,
   "id": "f7cfa078",
   "metadata": {},
   "outputs": [],
   "source": [
    "string = 'Learn python programming'"
   ]
  },
  {
   "cell_type": "code",
   "execution_count": 15,
   "id": "89f4355b",
   "metadata": {},
   "outputs": [],
   "source": [
    "test = re.match(r'(.*)(.*?)(,*)',string)"
   ]
  },
  {
   "cell_type": "code",
   "execution_count": 16,
   "id": "d47dc4e6",
   "metadata": {},
   "outputs": [
    {
     "data": {
      "text/plain": [
       "'Learn python programming'"
      ]
     },
     "execution_count": 16,
     "metadata": {},
     "output_type": "execute_result"
    }
   ],
   "source": [
    "test.group()"
   ]
  },
  {
   "cell_type": "code",
   "execution_count": 11,
   "id": "8e7a8d85",
   "metadata": {},
   "outputs": [
    {
     "name": "stdout",
     "output_type": "stream",
     "text": [
      "0 1\n",
      "0\n"
     ]
    }
   ],
   "source": [
    "a, b = input().split()\n",
    "a = int(a)\n",
    "b = int(b)\n",
    "\n",
    "def power(a,n):\n",
    "    if (a == 0 and n == 0):\n",
    "        return 1\n",
    "    elif(n == 0):\n",
    "        return 1\n",
    "    else:\n",
    "        return a * power(a,n-1)\n",
    "\n",
    "print(power(a,b))"
   ]
  },
  {
   "cell_type": "code",
   "execution_count": 13,
   "id": "2916f0cc",
   "metadata": {},
   "outputs": [
    {
     "ename": "TypeError",
     "evalue": "unsupported operand type(s) for -: 'list' and 'list'",
     "output_type": "error",
     "traceback": [
      "\u001b[1;31m---------------------------------------------------------------------------\u001b[0m",
      "\u001b[1;31mTypeError\u001b[0m                                 Traceback (most recent call last)",
      "\u001b[1;32m~\\AppData\\Local\\Temp/ipykernel_26324/2094193956.py\u001b[0m in \u001b[0;36m<module>\u001b[1;34m\u001b[0m\n\u001b[1;32m----> 1\u001b[1;33m \u001b[1;33m[\u001b[0m\u001b[1;36m1\u001b[0m\u001b[1;33m,\u001b[0m\u001b[1;36m2\u001b[0m\u001b[1;33m,\u001b[0m\u001b[1;36m3\u001b[0m\u001b[1;33m,\u001b[0m\u001b[1;36m4\u001b[0m\u001b[1;33m]\u001b[0m \u001b[1;33m-\u001b[0m \u001b[1;33m[\u001b[0m\u001b[1;36m1\u001b[0m\u001b[1;33m,\u001b[0m\u001b[1;36m2\u001b[0m\u001b[1;33m]\u001b[0m\u001b[1;33m\u001b[0m\u001b[1;33m\u001b[0m\u001b[0m\n\u001b[0m",
      "\u001b[1;31mTypeError\u001b[0m: unsupported operand type(s) for -: 'list' and 'list'"
     ]
    }
   ],
   "source": [
    "[1,2,3,4] - [1,2]"
   ]
  },
  {
   "cell_type": "code",
   "execution_count": 55,
   "id": "3ed88065",
   "metadata": {},
   "outputs": [],
   "source": [
    "def getMinLength(seq,start):\n",
    "    if start > len(seq) - 2 :\n",
    "        return 0\n",
    "    \n",
    "    if (seq[start] == 'A' and seq[start+1] == 'B'):\n",
    "        print(\"1\",seq[start])\n",
    "        return 0 + getMinLength(seq,start+2)\n",
    "    elif(seq[start] == 'B'and seq[start+1] == 'B'):\n",
    "        print(\"2\",seq[start])\n",
    "        return 0 + getMinLength(seq,start+2)\n",
    "    else:\n",
    "        print(\"3\",seq,start)\n",
    "        return 1 + getMinLength(seq,start+1)"
   ]
  },
  {
   "cell_type": "code",
   "execution_count": 56,
   "id": "135377e4",
   "metadata": {},
   "outputs": [
    {
     "name": "stdout",
     "output_type": "stream",
     "text": [
      "3 BABB 0\n",
      "1 A\n"
     ]
    },
    {
     "data": {
      "text/plain": [
       "1"
      ]
     },
     "execution_count": 56,
     "metadata": {},
     "output_type": "execute_result"
    }
   ],
   "source": [
    "seq = 'BABB'\n",
    "getMinLength(seq,0)"
   ]
  },
  {
   "cell_type": "code",
   "execution_count": 50,
   "id": "db06f1c0",
   "metadata": {},
   "outputs": [
    {
     "name": "stdout",
     "output_type": "stream",
     "text": [
      "AABBBAB 0\n",
      "A\n",
      "A\n"
     ]
    },
    {
     "data": {
      "text/plain": [
       "1"
      ]
     },
     "execution_count": 50,
     "metadata": {},
     "output_type": "execute_result"
    }
   ],
   "source": [
    "seq = 'AABBBAB'\n",
    "getMinLength(seq,0)"
   ]
  },
  {
   "cell_type": "code",
   "execution_count": 64,
   "id": "81821db7",
   "metadata": {},
   "outputs": [],
   "source": [
    "def getMinLength(seq):\n",
    "    \n",
    "    while len(seq) > 1:\n",
    "        if ('AB' in seq):\n",
    "            ind = seq.index ('AB')\n",
    "            seq = seq[0:ind] + seq[ind+2:]\n",
    "        elif ('BB') in seq:\n",
    "            ind = seq.index ('BB')\n",
    "            seq = seq[0:ind] + seq[ind+2:]\n",
    "    return len(seq)  "
   ]
  },
  {
   "cell_type": "code",
   "execution_count": 65,
   "id": "b0018d83",
   "metadata": {},
   "outputs": [
    {
     "data": {
      "text/plain": [
       "0"
      ]
     },
     "execution_count": 65,
     "metadata": {},
     "output_type": "execute_result"
    }
   ],
   "source": [
    "seq = 'BABB'\n",
    "getMinLength(seq)"
   ]
  },
  {
   "cell_type": "code",
   "execution_count": 67,
   "id": "0841cefb",
   "metadata": {},
   "outputs": [
    {
     "data": {
      "text/plain": [
       "1"
      ]
     },
     "execution_count": 67,
     "metadata": {},
     "output_type": "execute_result"
    }
   ],
   "source": [
    "seq = 'AABBBABBB'\n",
    "getMinLength(seq)"
   ]
  },
  {
   "cell_type": "code",
   "execution_count": 71,
   "id": "cbc22a18",
   "metadata": {},
   "outputs": [],
   "source": [
    "def getMinLength(seq):\n",
    "    \n",
    "    if ('AB' in seq):\n",
    "        ind = seq.index ('AB')\n",
    "        return getMinLength(seq[0:ind] + seq[ind+2:])\n",
    "    elif ('BB') in seq:\n",
    "        ind = seq.index ('BB')\n",
    "        return getMinLength(seq[0:ind] + seq[ind+2:])\n",
    "        \n",
    "    return len(seq) "
   ]
  },
  {
   "cell_type": "code",
   "execution_count": 73,
   "id": "bcf6ae2d",
   "metadata": {},
   "outputs": [
    {
     "data": {
      "text/plain": [
       "1"
      ]
     },
     "execution_count": 73,
     "metadata": {},
     "output_type": "execute_result"
    }
   ],
   "source": [
    "seq = 'AABBBABBB'\n",
    "getMinLength(seq)"
   ]
  },
  {
   "cell_type": "code",
   "execution_count": 137,
   "id": "3bbbb1d6",
   "metadata": {},
   "outputs": [],
   "source": [
    "def getMinLength(seq):\n",
    "    start = 0\n",
    "    j = 1\n",
    "    min_c = 0\n",
    "    while j < len(seq) -1:\n",
    "        if (seq[start] == 'A' or seq[start] == 'B') and seq[j]  == 'B':\n",
    "            start = j + 1\n",
    "            j = j + 2\n",
    "            min_c += 1\n",
    "        elif(seq[j+1] == 'B' ):\n",
    "            start = start - 1\n",
    "            j = j+1\n",
    "            min_c += 1\n",
    "        else:\n",
    "            j = j+1\n",
    "    return len(seq) - min_c * 2"
   ]
  },
  {
   "cell_type": "code",
   "execution_count": 138,
   "id": "74e07186",
   "metadata": {},
   "outputs": [
    {
     "data": {
      "text/plain": [
       "0"
      ]
     },
     "execution_count": 138,
     "metadata": {},
     "output_type": "execute_result"
    }
   ],
   "source": [
    "seq = 'ABABBBABBABA'\n",
    "getMinLength(seq)"
   ]
  },
  {
   "cell_type": "code",
   "execution_count": null,
   "id": "7b7a889b",
   "metadata": {},
   "outputs": [],
   "source": []
  }
 ],
 "metadata": {
  "kernelspec": {
   "display_name": "Python 3 (ipykernel)",
   "language": "python",
   "name": "python3"
  },
  "language_info": {
   "codemirror_mode": {
    "name": "ipython",
    "version": 3
   },
   "file_extension": ".py",
   "mimetype": "text/x-python",
   "name": "python",
   "nbconvert_exporter": "python",
   "pygments_lexer": "ipython3",
   "version": "3.7.11"
  }
 },
 "nbformat": 4,
 "nbformat_minor": 5
}
