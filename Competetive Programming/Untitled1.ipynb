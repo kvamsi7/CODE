{
 "cells": [
  {
   "cell_type": "code",
   "execution_count": 26,
   "id": "31e4a163",
   "metadata": {},
   "outputs": [
    {
     "name": "stdout",
     "output_type": "stream",
     "text": [
      "4\n",
      "*000*000*\n",
      "0*00*00*0\n",
      "00*0*0*00\n",
      "000***000\n"
     ]
    }
   ],
   "source": [
    "n = int(input())\n",
    "\n",
    "for i in range(1,n+1):\n",
    "    length = n*2+1;\n",
    "    mid = int(length/2)+1 if length % 2 else length/2\n",
    "    for j in range(1,length+1):\n",
    "        if(j == mid):\n",
    "            print(\"*\",end=\"\")\n",
    "            continue\n",
    "        if(j==i or j==length-i+1):\n",
    "            print(\"*\",end=\"\")\n",
    "        else:\n",
    "            print(\"0\",end=\"\")\n",
    "    print(\"\")"
   ]
  },
  {
   "cell_type": "code",
   "execution_count": 37,
   "id": "7788a01c",
   "metadata": {},
   "outputs": [
    {
     "name": "stdout",
     "output_type": "stream",
     "text": [
      "5\n",
      "*0000*0000*\n",
      "0*000*000*0\n",
      "00*00*00*00\n",
      "000*0*0*000\n",
      "0000***0000\n"
     ]
    }
   ],
   "source": [
    "n = int(input())\n",
    "\n",
    "i = 1\n",
    "while(i<=n):\n",
    "    length = n*2+1;\n",
    "    j=1\n",
    "    while(j<=length):\n",
    "        if(j == n+1):\n",
    "            print(\"*\",end=\"\")\n",
    "            j+=1\n",
    "            continue\n",
    "        if(j==i or j==length-i+1):\n",
    "            print(\"*\",end=\"\")\n",
    "        else:\n",
    "            print(\"0\",end=\"\")\n",
    "        j +=1\n",
    "    print(\"\")\n",
    "    i +=1"
   ]
  },
  {
   "cell_type": "code",
   "execution_count": 33,
   "id": "b3e32b5c",
   "metadata": {},
   "outputs": [],
   "source": []
  },
  {
   "cell_type": "code",
   "execution_count": 50,
   "id": "b2bca28c",
   "metadata": {},
   "outputs": [],
   "source": [
    "a = [1,3,2,1,2,2,3,4]\n",
    "\n",
    "def sort_array(arr):\n",
    "    freq_array = [0]*max(arr)\n",
    "    for i in a:\n",
    "        freq_array[i-1] +=1\n",
    "    print(freq_array)\n",
    "    diff = len(arr) - len(freq_array)\n",
    "    control_var = len(freq_array)\n",
    "    i = 0\n",
    "    while i < len(arr):\n",
    "        elem = len(freq_array) - control_var\n",
    "        print(\"ele \",elem)\n",
    "        freq = freq_array[elem]\n",
    "        print(freq)\n",
    "        if(freq > 0):\n",
    "            arr[i] = elem +1\n",
    "            i += 1\n",
    "            freq -= 1\n",
    "        if(freq <= 0 ):\n",
    "            control_var -= 1;\n",
    "        print(arr)\n",
    "    print(arr)"
   ]
  },
  {
   "cell_type": "code",
   "execution_count": 51,
   "id": "e0e4ab78",
   "metadata": {},
   "outputs": [
    {
     "name": "stdout",
     "output_type": "stream",
     "text": [
      "[2, 3, 2, 1]\n",
      "ele  0\n",
      "2\n",
      "[1, 3, 2, 1, 2, 2, 3, 4]\n",
      "ele  0\n",
      "2\n",
      "[1, 1, 2, 1, 2, 2, 3, 4]\n",
      "ele  0\n",
      "2\n",
      "[1, 1, 1, 1, 2, 2, 3, 4]\n",
      "ele  0\n",
      "2\n",
      "[1, 1, 1, 1, 2, 2, 3, 4]\n",
      "ele  0\n",
      "2\n",
      "[1, 1, 1, 1, 1, 2, 3, 4]\n",
      "ele  0\n",
      "2\n",
      "[1, 1, 1, 1, 1, 1, 3, 4]\n",
      "ele  0\n",
      "2\n",
      "[1, 1, 1, 1, 1, 1, 1, 4]\n",
      "ele  0\n",
      "2\n",
      "[1, 1, 1, 1, 1, 1, 1, 1]\n",
      "[1, 1, 1, 1, 1, 1, 1, 1]\n"
     ]
    }
   ],
   "source": [
    "sort_array(a)"
   ]
  },
  {
   "cell_type": "code",
   "execution_count": 14,
   "id": "435e5005",
   "metadata": {},
   "outputs": [
    {
     "data": {
      "text/plain": [
       "8"
      ]
     },
     "execution_count": 14,
     "metadata": {},
     "output_type": "execute_result"
    }
   ],
   "source": []
  },
  {
   "cell_type": "code",
   "execution_count": null,
   "id": "ea2af4d7",
   "metadata": {},
   "outputs": [],
   "source": []
  }
 ],
 "metadata": {
  "kernelspec": {
   "display_name": "Python 3 (ipykernel)",
   "language": "python",
   "name": "python3"
  },
  "language_info": {
   "codemirror_mode": {
    "name": "ipython",
    "version": 3
   },
   "file_extension": ".py",
   "mimetype": "text/x-python",
   "name": "python",
   "nbconvert_exporter": "python",
   "pygments_lexer": "ipython3",
   "version": "3.9.7"
  }
 },
 "nbformat": 4,
 "nbformat_minor": 5
}
