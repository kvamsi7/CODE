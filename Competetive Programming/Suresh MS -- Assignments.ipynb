{
 "cells": [
  {
   "cell_type": "code",
   "execution_count": 59,
   "id": "6bf20e9f",
   "metadata": {},
   "outputs": [
    {
     "name": "stdout",
     "output_type": "stream",
     "text": [
      "Enter the currency in knuts \n",
      "493\n",
      "493 knuts = 1 galleons 0 sickles and 0 knuts.\n"
     ]
    }
   ],
   "source": [
    "def closestMulitple(n,m):\n",
    "    for i in range(1,n+1):\n",
    "        if i*m <= n:\n",
    "            continue;\n",
    "        else:\n",
    "            return i-1\n",
    "            break\n",
    "            \n",
    "one_sickle = 29 \n",
    "one_galleon = 17 \n",
    "knuts,sickles,galleons = 0,0,0\n",
    "money = int(input(\"Enter the currency in knuts \\n\"))\n",
    "sickles = closestMulitple(money,one_sickle)\n",
    "if (sickles * one_sickle) <= money:\n",
    "    knuts = money - (sickles * one_sickle )\n",
    "galleons = closestMulitple(sickles,one_galleon)\n",
    "if (galleons * one_galleon) <= sickles:\n",
    "    sickles = sickles - (galleons * one_galleon)\n",
    "print(\"{} knuts = {} galleons {} sickles and {} knuts.\".format(money,galleons,sickles,knuts))"
   ]
  },
  {
   "cell_type": "code",
   "execution_count": null,
   "id": "f8372e5b",
   "metadata": {},
   "outputs": [],
   "source": []
  }
 ],
 "metadata": {
  "kernelspec": {
   "display_name": "Python 3 (ipykernel)",
   "language": "python",
   "name": "python3"
  },
  "language_info": {
   "codemirror_mode": {
    "name": "ipython",
    "version": 3
   },
   "file_extension": ".py",
   "mimetype": "text/x-python",
   "name": "python",
   "nbconvert_exporter": "python",
   "pygments_lexer": "ipython3",
   "version": "3.10.4"
  }
 },
 "nbformat": 4,
 "nbformat_minor": 5
}
