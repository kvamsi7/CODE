{
 "cells": [
  {
   "cell_type": "code",
   "execution_count": 35,
   "id": "d3944d48",
   "metadata": {},
   "outputs": [
    {
     "name": "stdout",
     "output_type": "stream",
     "text": [
      "[[1, 1, 1], [0, 1, 0], [1, 1, 1]]\n",
      "[[1, 1, 0], [0, 0, 0], [1, 1, 0]]\n",
      "[[1, 0, 0], [0, 0, 0], [1, 0, 0]]\n",
      "[[0, 0, 0], [0, 0, 0], [0, 0, 0]]\n",
      "[[0, 1, 0], [0, 1, 0], [0, 0, 2]]\n",
      "[[1, 0, 0], [0, 1, 0], [0, 2, 4]]\n",
      "[[0, 0, 0], [0, 0, 0], [2, 4, 4]]\n",
      "[[0, 0, 0], [0, 0, 0], [4, 4, 0]]\n",
      "[[1, 1, 1], [0, 0, 0], [0, 0, 0]]\n",
      "[[1, 1, 0], [0, 2, 0], [0, 0, 2]]\n",
      "[[1, 0, 0], [0, 4, 0], [0, 2, 0]]\n",
      "[[0, 0, 0], [0, 4, 0], [2, 0, 0]]\n",
      "[[0, 0, 2], [0, 0, 0], [0, 0, 1]]\n",
      "[[0, 2, 4], [0, 0, 0], [0, 1, 2]]\n",
      "[[2, 4, 4], [0, 2, 0], [1, 2, 4]]\n",
      "[[4, 4, 0], [0, 0, 0], [2, 4, 0]]\n",
      "19\n"
     ]
    }
   ],
   "source": [
    "#!/bin/python3\n",
    "\n",
    "import math\n",
    "import os\n",
    "import random\n",
    "import re\n",
    "import sys\n",
    "\n",
    "\n",
    "def max_hourglass_sum(arr):\n",
    "    max_ = 0\n",
    "    \n",
    "    hourglass_sum_arr = []\n",
    "    window = []\n",
    "    for i in range(0,6-2):\n",
    "        for j in range(0,6-2):\n",
    "            rows = arr[i:i+3]\n",
    "            window = [row[j:j+3] for row in rows]\n",
    "            window[1][0], window[1][2] = 0,0\n",
    "            window_sum = 0\n",
    "            print(window)\n",
    "            for k in range(3):\n",
    "                window_sum += sum(window[k])\n",
    "                    \n",
    "            hourglass_sum_arr.append(window_sum)\n",
    "    return max(hourglass_sum_arr)\n",
    "\n",
    "# if __name__ == '__main__':\n",
    "\n",
    "#     arr = []\n",
    "\n",
    "#     for _ in range(6):\n",
    "#         arr.append(list(map(int, input().rstrip().split())))\n",
    "print(max_hourglass_sum(arr))\n"
   ]
  },
  {
   "cell_type": "code",
   "execution_count": 15,
   "id": "aded9fe2",
   "metadata": {},
   "outputs": [
    {
     "name": "stdout",
     "output_type": "stream",
     "text": [
      "[[1, 1, 1], [0, 1, 0], [1, 1, 1]]\n",
      "[[1, 1, 0], [1, 0, 0], [1, 1, 0]]\n",
      "[[1, 0, 0], [0, 0, 0], [1, 0, 0]]\n",
      "[[0, 0, 0], [0, 0, 0], [0, 0, 0]]\n",
      "[[0, 1, 0], [1, 1, 1], [0, 0, 2]]\n",
      "[[1, 0, 0], [1, 1, 0], [0, 2, 4]]\n",
      "[[0, 0, 0], [1, 0, 0], [2, 4, 4]]\n",
      "[[0, 0, 0], [0, 0, 0], [4, 4, 0]]\n",
      "[[1, 1, 1], [0, 0, 2], [0, 0, 0]]\n",
      "[[1, 1, 0], [0, 2, 4], [0, 0, 2]]\n",
      "[[1, 0, 0], [2, 4, 4], [0, 2, 0]]\n",
      "[[0, 0, 0], [4, 4, 0], [2, 0, 0]]\n",
      "[[0, 0, 2], [0, 0, 0], [0, 0, 1]]\n",
      "[[0, 2, 4], [0, 0, 2], [0, 1, 2]]\n",
      "[[2, 4, 4], [0, 2, 0], [1, 2, 4]]\n",
      "[[4, 4, 0], [2, 0, 0], [2, 4, 0]]\n"
     ]
    }
   ],
   "source": [
    "window = []\n",
    "for i in range(0,6-2):\n",
    "    for j in range(0,6-2):\n",
    "        rows = arr[i:i+3]\n",
    "        window = [row[j:j+3] for row in rows]\n",
    "        print(window)"
   ]
  },
  {
   "cell_type": "code",
   "execution_count": 12,
   "id": "20d3afb8",
   "metadata": {},
   "outputs": [
    {
     "data": {
      "text/plain": [
       "[[1, 1, 1, 0, 0, 0], [0, 1, 0, 0, 0, 0], [1, 1, 1, 0, 0, 0]]"
      ]
     },
     "execution_count": 12,
     "metadata": {},
     "output_type": "execute_result"
    }
   ],
   "source": [
    "[[1, 1, 1], [0, 1, 0], [1, 1, 1]]\n",
    "[[1, 1, 0], [1, 0, 0], [1, 1, 0]]\n",
    "[[1, 0, 0], [0, 0, 0], [1, 0, 0]]\n",
    "[[0, 0, 0], [0, 0, 0], [0, 0, 0]]\n",
    "[[0, 1, 0], [1, 1, 1], [0, 0, 2]]\n",
    "[[1, 0, 0], [1, 1, 0], [0, 2, 4]]\n",
    "[[0, 0, 0], [1, 0, 0], [2, 4, 4]]\n",
    "[[0, 0, 0], [0, 0, 0], [4, 4, 0]]\n",
    "[[1, 1, 1], [0, 0, 2], [0, 0, 0]]\n",
    "[[1, 1, 0], [0, 2, 4], [0, 0, 2]]\n",
    "[[1, 0, 0], [2, 4, 4], [0, 2, 0]]\n",
    "[[0, 0, 0], [4, 4, 0], [2, 0, 0]]\n",
    "[[0, 0, 2], [0, 0, 0], [0, 0, 1]]"
   ]
  },
  {
   "cell_type": "code",
   "execution_count": 18,
   "id": "b2de0b18",
   "metadata": {},
   "outputs": [
    {
     "ename": "TypeError",
     "evalue": "unsupported operand type(s) for +: 'int' and 'list'",
     "output_type": "error",
     "traceback": [
      "\u001b[1;31m---------------------------------------------------------------------------\u001b[0m",
      "\u001b[1;31mTypeError\u001b[0m                                 Traceback (most recent call last)",
      "\u001b[1;32m~\\AppData\\Local\\Temp/ipykernel_31408/1301614850.py\u001b[0m in \u001b[0;36m<module>\u001b[1;34m\u001b[0m\n\u001b[1;32m----> 1\u001b[1;33m \u001b[0msum\u001b[0m\u001b[1;33m(\u001b[0m\u001b[1;33m[\u001b[0m\u001b[1;33m[\u001b[0m\u001b[1;36m1\u001b[0m\u001b[1;33m,\u001b[0m \u001b[1;36m1\u001b[0m\u001b[1;33m,\u001b[0m \u001b[1;36m1\u001b[0m\u001b[1;33m]\u001b[0m\u001b[1;33m,\u001b[0m \u001b[1;33m[\u001b[0m\u001b[1;36m0\u001b[0m\u001b[1;33m,\u001b[0m \u001b[1;36m1\u001b[0m\u001b[1;33m,\u001b[0m \u001b[1;36m0\u001b[0m\u001b[1;33m]\u001b[0m\u001b[1;33m,\u001b[0m \u001b[1;33m[\u001b[0m\u001b[1;36m1\u001b[0m\u001b[1;33m,\u001b[0m \u001b[1;36m1\u001b[0m\u001b[1;33m,\u001b[0m \u001b[1;36m1\u001b[0m\u001b[1;33m]\u001b[0m\u001b[1;33m]\u001b[0m\u001b[1;33m)\u001b[0m\u001b[1;33m\u001b[0m\u001b[1;33m\u001b[0m\u001b[0m\n\u001b[0m",
      "\u001b[1;31mTypeError\u001b[0m: unsupported operand type(s) for +: 'int' and 'list'"
     ]
    }
   ],
   "source": [
    "sum([[1, 1, 1], [0, 1, 0], [1, 1, 1]])"
   ]
  },
  {
   "cell_type": "code",
   "execution_count": 24,
   "id": "62ced804",
   "metadata": {},
   "outputs": [
    {
     "data": {
      "text/plain": [
       "3"
      ]
     },
     "execution_count": 24,
     "metadata": {},
     "output_type": "execute_result"
    }
   ],
   "source": [
    "sum([1, 1, 1])"
   ]
  },
  {
   "cell_type": "code",
   "execution_count": null,
   "id": "d41966a8",
   "metadata": {},
   "outputs": [],
   "source": []
  }
 ],
 "metadata": {
  "kernelspec": {
   "display_name": "Python 3 (ipykernel)",
   "language": "python",
   "name": "python3"
  },
  "language_info": {
   "codemirror_mode": {
    "name": "ipython",
    "version": 3
   },
   "file_extension": ".py",
   "mimetype": "text/x-python",
   "name": "python",
   "nbconvert_exporter": "python",
   "pygments_lexer": "ipython3",
   "version": "3.9.7"
  }
 },
 "nbformat": 4,
 "nbformat_minor": 5
}
